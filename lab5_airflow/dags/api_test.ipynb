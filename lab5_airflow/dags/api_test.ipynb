{
 "cells": [
  {
   "cell_type": "code",
   "execution_count": 5,
   "metadata": {},
   "outputs": [],
   "source": [
    "import requests"
   ]
  },
  {
   "cell_type": "code",
   "execution_count": 6,
   "metadata": {},
   "outputs": [
    {
     "data": {
      "text/plain": [
       "<Response [200]>"
      ]
     },
     "execution_count": 6,
     "metadata": {},
     "output_type": "execute_result"
    }
   ],
   "source": [
    "url = 'https://api.openweathermap.org/data/2.5/weather?q=portland&appid=f47b7320ff3f8199243a2954fadeccd4'\n",
    "response = requests.get(url)\n",
    "response"
   ]
  },
  {
   "cell_type": "code",
   "execution_count": 7,
   "metadata": {},
   "outputs": [],
   "source": [
    "weather = response.json()"
   ]
  },
  {
   "cell_type": "code",
   "execution_count": 8,
   "metadata": {},
   "outputs": [
    {
     "data": {
      "text/plain": [
       "{'coord': {'lon': -122.6762, 'lat': 45.5234},\n",
       " 'weather': [{'id': 804,\n",
       "   'main': 'Clouds',\n",
       "   'description': 'overcast clouds',\n",
       "   'icon': '04n'}],\n",
       " 'base': 'stations',\n",
       " 'main': {'temp': 276.81,\n",
       "  'feels_like': 276.81,\n",
       "  'temp_min': 274.48,\n",
       "  'temp_max': 278.04,\n",
       "  'pressure': 1026,\n",
       "  'humidity': 96,\n",
       "  'sea_level': 1026,\n",
       "  'grnd_level': 1016},\n",
       " 'visibility': 10000,\n",
       " 'wind': {'speed': 0.89, 'deg': 309, 'gust': 1.79},\n",
       " 'clouds': {'all': 100},\n",
       " 'dt': 1732792081,\n",
       " 'sys': {'type': 2,\n",
       "  'id': 2008548,\n",
       "  'country': 'US',\n",
       "  'sunrise': 1732807671,\n",
       "  'sunset': 1732840220},\n",
       " 'timezone': -28800,\n",
       " 'id': 5746545,\n",
       " 'name': 'Portland',\n",
       " 'cod': 200}"
      ]
     },
     "execution_count": 8,
     "metadata": {},
     "output_type": "execute_result"
    }
   ],
   "source": [
    "weather"
   ]
  }
 ],
 "metadata": {
  "kernelspec": {
   "display_name": "base",
   "language": "python",
   "name": "python3"
  },
  "language_info": {
   "codemirror_mode": {
    "name": "ipython",
    "version": 3
   },
   "file_extension": ".py",
   "mimetype": "text/x-python",
   "name": "python",
   "nbconvert_exporter": "python",
   "pygments_lexer": "ipython3",
   "version": "3.12.4"
  }
 },
 "nbformat": 4,
 "nbformat_minor": 2
}
